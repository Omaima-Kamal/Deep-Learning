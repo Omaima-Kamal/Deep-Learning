{
 "cells": [
  {
   "cell_type": "code",
   "execution_count": 1,
   "id": "dd442508",
   "metadata": {},
   "outputs": [],
   "source": [
    "import numpy as np\n",
    "from tensorflow.keras.models import Sequential\n",
    "from tensorflow.keras.layers import Dense, Activation, Dropout, LSTM\n",
    "from tensorflow.keras.utils import to_categorical, plot_model\n",
    "from tensorflow.keras.datasets import mnist\n",
    "from sklearn.model_selection import train_test_split\n",
    "from matplotlib import pyplot as plt\n"
   ]
  },
  {
   "cell_type": "code",
   "execution_count": 2,
   "id": "7593e706",
   "metadata": {},
   "outputs": [],
   "source": [
    "# load mnist dataset\n",
    "(x_train, y_train), (x_test, y_test) = mnist.load_data()"
   ]
  },
  {
   "cell_type": "code",
   "execution_count": 3,
   "id": "5e3d306c",
   "metadata": {},
   "outputs": [
    {
     "name": "stdout",
     "output_type": "stream",
     "text": [
      "60000\n"
     ]
    }
   ],
   "source": [
    "print(len(x_train))"
   ]
  },
  {
   "cell_type": "code",
   "execution_count": 4,
   "id": "ec36ed00",
   "metadata": {},
   "outputs": [
    {
     "name": "stdout",
     "output_type": "stream",
     "text": [
      "10000\n"
     ]
    }
   ],
   "source": [
    "print(len(x_test))"
   ]
  },
  {
   "cell_type": "code",
   "execution_count": 5,
   "id": "6d18df1d",
   "metadata": {},
   "outputs": [
    {
     "data": {
      "text/plain": [
       "10"
      ]
     },
     "execution_count": 5,
     "metadata": {},
     "output_type": "execute_result"
    }
   ],
   "source": [
    "# compute the number of labels\n",
    "num_labels = len(np.unique(y_train))\n",
    "num_labels"
   ]
  },
  {
   "cell_type": "code",
   "execution_count": 6,
   "id": "25f12d24",
   "metadata": {},
   "outputs": [
    {
     "name": "stdout",
     "output_type": "stream",
     "text": [
      "(60000, 10)\n",
      "(10000, 10)\n"
     ]
    }
   ],
   "source": [
    "# convert to one-hot vector\n",
    "y_train = to_categorical(y_train)\n",
    "y_test = to_categorical(y_test)\n",
    "print(y_train.shape)\n",
    "print(y_test.shape)"
   ]
  },
  {
   "cell_type": "code",
   "execution_count": 7,
   "id": "39eccf78",
   "metadata": {},
   "outputs": [
    {
     "name": "stdout",
     "output_type": "stream",
     "text": [
      "28\n"
     ]
    }
   ],
   "source": [
    "# resize and normalize\n",
    "image_size = x_train.shape[1]\n",
    "print(image_size)\n",
    "x_train = np.reshape(x_train,[-1, image_size, image_size])\n",
    "x_test = np.reshape(x_test,[-1, image_size, image_size])\n",
    "x_train = x_train.astype('float32') / 255\n",
    "x_test = x_test.astype('float32') / 255"
   ]
  },
  {
   "cell_type": "code",
   "execution_count": 8,
   "id": "0428512d",
   "metadata": {},
   "outputs": [
    {
     "name": "stdout",
     "output_type": "stream",
     "text": [
      "x_train shape: (60000, 28, 28)\n",
      "x_test shape: (10000, 28, 28)\n"
     ]
    }
   ],
   "source": [
    "print('x_train shape:', x_train.shape)\n",
    "print('x_test shape:', x_test.shape)"
   ]
  },
  {
   "cell_type": "code",
   "execution_count": 9,
   "id": "a5ddb34c",
   "metadata": {},
   "outputs": [],
   "source": [
    "#spli validation from train\n",
    "x_train, x_val, y_train, y_val = train_test_split(x_train,y_train, test_size = 0.2, random_state=42)"
   ]
  },
  {
   "cell_type": "code",
   "execution_count": 11,
   "id": "93f1fac3",
   "metadata": {},
   "outputs": [],
   "source": [
    "# network parameters\n",
    "input_shape = (image_size, image_size)\n",
    "batch_size = 64 #128\n",
    "units = 256\n",
    "dropout = 0.2\n",
    "epochs = 30"
   ]
  },
  {
   "cell_type": "code",
   "execution_count": 12,
   "id": "d24afcd9",
   "metadata": {},
   "outputs": [
    {
     "name": "stdout",
     "output_type": "stream",
     "text": [
      "Model: \"sequential\"\n",
      "_________________________________________________________________\n",
      " Layer (type)                Output Shape              Param #   \n",
      "=================================================================\n",
      " lstm (LSTM)                 (None, 256)               291840    \n",
      "                                                                 \n",
      " dense (Dense)               (None, 128)               32896     \n",
      "                                                                 \n",
      " dense_1 (Dense)             (None, 128)               16512     \n",
      "                                                                 \n",
      " dense_2 (Dense)             (None, 356)               45924     \n",
      "                                                                 \n",
      " dense_3 (Dense)             (None, 356)               127092    \n",
      "                                                                 \n",
      " dense_4 (Dense)             (None, 10)                3570      \n",
      "                                                                 \n",
      " activation (Activation)     (None, 10)                0         \n",
      "                                                                 \n",
      "=================================================================\n",
      "Total params: 517,834\n",
      "Trainable params: 517,834\n",
      "Non-trainable params: 0\n",
      "_________________________________________________________________\n"
     ]
    }
   ],
   "source": [
    "#model is RNN with 256 units\n",
    "model = Sequential()\n",
    "\n",
    "#model.add(LSTM(units=units,input_shape=input_shape))\n",
    "model.add(LSTM(units=units,dropout=dropout,input_shape=input_shape))\n",
    "\n",
    "model.add(Dense(128, activation='relu'))\n",
    "model.add(Dense(128, activation='relu'))\n",
    "model.add(Dense(356, activation='relu'))\n",
    "model.add(Dense(356, activation='relu'))\n",
    "model.add(Dense(num_labels))\n",
    "model.add(Activation('softmax'))\n",
    "model.summary()\n"
   ]
  },
  {
   "cell_type": "code",
   "execution_count": 13,
   "id": "92dc3d37",
   "metadata": {},
   "outputs": [
    {
     "name": "stdout",
     "output_type": "stream",
     "text": [
      "Epoch 1/30\n",
      "750/750 [==============================] - 40s 51ms/step - loss: 2.2772 - accuracy: 0.1976 - val_loss: 2.2290 - val_accuracy: 0.2644\n",
      "Epoch 2/30\n",
      "750/750 [==============================] - 38s 51ms/step - loss: 2.0051 - accuracy: 0.3030 - val_loss: 1.6481 - val_accuracy: 0.4260\n",
      "Epoch 3/30\n",
      "750/750 [==============================] - 40s 53ms/step - loss: 1.3914 - accuracy: 0.4967 - val_loss: 1.0315 - val_accuracy: 0.6169\n",
      "Epoch 4/30\n",
      "750/750 [==============================] - 39s 52ms/step - loss: 0.8271 - accuracy: 0.7104 - val_loss: 0.6398 - val_accuracy: 0.7794\n",
      "Epoch 5/30\n",
      "750/750 [==============================] - 39s 52ms/step - loss: 0.5935 - accuracy: 0.7955 - val_loss: 0.5247 - val_accuracy: 0.8194\n",
      "Epoch 6/30\n",
      "750/750 [==============================] - 40s 53ms/step - loss: 0.4635 - accuracy: 0.8448 - val_loss: 0.4165 - val_accuracy: 0.8660\n",
      "Epoch 7/30\n",
      "750/750 [==============================] - 39s 52ms/step - loss: 0.3796 - accuracy: 0.8746 - val_loss: 0.4157 - val_accuracy: 0.8554\n",
      "Epoch 8/30\n",
      "750/750 [==============================] - 40s 53ms/step - loss: 0.3068 - accuracy: 0.8992 - val_loss: 0.2310 - val_accuracy: 0.9301\n",
      "Epoch 9/30\n",
      "750/750 [==============================] - 39s 52ms/step - loss: 0.2625 - accuracy: 0.9153 - val_loss: 0.2065 - val_accuracy: 0.9380\n",
      "Epoch 10/30\n",
      "750/750 [==============================] - 39s 52ms/step - loss: 0.2303 - accuracy: 0.9274 - val_loss: 0.1835 - val_accuracy: 0.9441\n",
      "Epoch 11/30\n",
      "750/750 [==============================] - 40s 53ms/step - loss: 0.2055 - accuracy: 0.9348 - val_loss: 0.1477 - val_accuracy: 0.9563\n",
      "Epoch 12/30\n",
      "750/750 [==============================] - 41s 55ms/step - loss: 0.1843 - accuracy: 0.9411 - val_loss: 0.1659 - val_accuracy: 0.9467\n",
      "Epoch 13/30\n",
      "750/750 [==============================] - 40s 54ms/step - loss: 0.1707 - accuracy: 0.9453 - val_loss: 0.1438 - val_accuracy: 0.9549\n",
      "Epoch 14/30\n",
      "750/750 [==============================] - 42s 56ms/step - loss: 0.1593 - accuracy: 0.9489 - val_loss: 0.1325 - val_accuracy: 0.9582\n",
      "Epoch 15/30\n",
      "750/750 [==============================] - 42s 56ms/step - loss: 0.1493 - accuracy: 0.9526 - val_loss: 0.1164 - val_accuracy: 0.9647\n",
      "Epoch 16/30\n",
      "750/750 [==============================] - 41s 54ms/step - loss: 0.1409 - accuracy: 0.9560 - val_loss: 0.1066 - val_accuracy: 0.9673\n",
      "Epoch 17/30\n",
      "750/750 [==============================] - 41s 54ms/step - loss: 0.1363 - accuracy: 0.9568 - val_loss: 0.1197 - val_accuracy: 0.9644\n",
      "Epoch 18/30\n",
      "750/750 [==============================] - 41s 55ms/step - loss: 0.1249 - accuracy: 0.9605 - val_loss: 0.1002 - val_accuracy: 0.9697\n",
      "Epoch 19/30\n",
      "750/750 [==============================] - 43s 57ms/step - loss: 0.1196 - accuracy: 0.9614 - val_loss: 0.1023 - val_accuracy: 0.9678\n",
      "Epoch 20/30\n",
      "750/750 [==============================] - 41s 55ms/step - loss: 0.1125 - accuracy: 0.9642 - val_loss: 0.0881 - val_accuracy: 0.9734\n",
      "Epoch 21/30\n",
      "750/750 [==============================] - 42s 57ms/step - loss: 0.1123 - accuracy: 0.9642 - val_loss: 0.0867 - val_accuracy: 0.9722\n",
      "Epoch 22/30\n",
      "750/750 [==============================] - 43s 57ms/step - loss: 0.1048 - accuracy: 0.9671 - val_loss: 0.0811 - val_accuracy: 0.9754\n",
      "Epoch 23/30\n",
      "750/750 [==============================] - 42s 56ms/step - loss: 0.1022 - accuracy: 0.9674 - val_loss: 0.0805 - val_accuracy: 0.9756\n",
      "Epoch 24/30\n",
      "750/750 [==============================] - 44s 59ms/step - loss: 0.0959 - accuracy: 0.9690 - val_loss: 0.0766 - val_accuracy: 0.9758\n",
      "Epoch 25/30\n",
      "750/750 [==============================] - 44s 59ms/step - loss: 0.0911 - accuracy: 0.9711 - val_loss: 0.0805 - val_accuracy: 0.9747\n",
      "Epoch 26/30\n",
      "750/750 [==============================] - 43s 58ms/step - loss: 0.0890 - accuracy: 0.9724 - val_loss: 0.0797 - val_accuracy: 0.9756\n",
      "Epoch 27/30\n",
      "750/750 [==============================] - 43s 57ms/step - loss: 0.0868 - accuracy: 0.9719 - val_loss: 0.1115 - val_accuracy: 0.9675\n",
      "Epoch 28/30\n",
      "750/750 [==============================] - 47s 63ms/step - loss: 0.0815 - accuracy: 0.9734 - val_loss: 0.0762 - val_accuracy: 0.9753\n",
      "Epoch 29/30\n",
      "750/750 [==============================] - 45s 61ms/step - loss: 0.0811 - accuracy: 0.9740 - val_loss: 0.0729 - val_accuracy: 0.9783\n",
      "Epoch 30/30\n",
      "750/750 [==============================] - 42s 57ms/step - loss: 0.0798 - accuracy: 0.9739 - val_loss: 0.1482 - val_accuracy: 0.9517\n"
     ]
    }
   ],
   "source": [
    "#compile the model\n",
    "model.compile(loss='categorical_crossentropy',optimizer='sgd',metrics=['accuracy'])\n",
    "\n",
    "# train the network\n",
    "history=model.fit(x_train, y_train, epochs=epochs, batch_size=batch_size,validation_data=(x_val,y_val))"
   ]
  },
  {
   "cell_type": "code",
   "execution_count": 14,
   "id": "d1296b6d",
   "metadata": {},
   "outputs": [
    {
     "name": "stdout",
     "output_type": "stream",
     "text": [
      "1500/1500 [==============================] - 26s 17ms/step - loss: 0.1272 - accuracy: 0.9568\n",
      "0.9568333625793457\n",
      "0.12720753252506256\n",
      "313/313 [==============================] - 6s 18ms/step - loss: 0.1489 - accuracy: 0.9513\n",
      "0.9513000249862671\n",
      "0.1488848775625229\n"
     ]
    },
    {
     "data": {
      "image/png": "[encoded data removed]",
      "text/plain": [
       "<Figure size 432x288 with 1 Axes>"
      ]
     },
     "metadata": {
      "needs_background": "light"
     },
     "output_type": "display_data"
    },
    {
     "data": {
      "image/png": "[encoded data removed]",
      "text/plain": [
       "<Figure size 432x288 with 1 Axes>"
      ]
     },
     "metadata": {
      "needs_background": "light"
     },
     "output_type": "display_data"
    }
   ],
   "source": [
    "train_loss , train_accuracy=model.evaluate(x_train,y_train)\n",
    "print(train_accuracy)\n",
    "print(train_loss)\n",
    "loss , accuracy=model.evaluate(x_test,y_test)\n",
    "print(accuracy)\n",
    "print(loss)\n",
    "y_pred = model.predict(x_test)\n",
    "\n",
    "# summarize history for accuracy\n",
    "plt.plot(history.history['accuracy'])\n",
    "plt.plot(history.history['val_accuracy'])\n",
    "plt.title('model accuracy')\n",
    "plt.ylabel('accuracy')\n",
    "plt.xlabel('epoch')\n",
    "plt.legend(['train', 'test'], loc='upper left')\n",
    "plt.show()\n",
    "\n",
    "# summarize history for loss\n",
    "plt.plot(history.history['loss'])\n",
    "plt.plot(history.history['val_loss'])\n",
    "plt.title('model loss')\n",
    "plt.ylabel('loss')\n",
    "plt.xlabel('epoch')\n",
    "plt.legend(['train', 'test'], loc='upper left')\n",
    "plt.show()"
   ]
  },
  {
   "cell_type": "code",
   "execution_count": 15,
   "id": "ff6862da",
   "metadata": {},
   "outputs": [
    {
     "name": "stdout",
     "output_type": "stream",
     "text": [
      "[[ 961    0    2    0    2    0    2    0    5    8]\n",
      " [   0 1118    1    4    0    0    2    4    4    2]\n",
      " [   4    0  987   29    1    0    1    4    5    1]\n",
      " [   0    0    1  990    0    2    0    0    0   17]\n",
      " [   1    0    1    0  904    0    2    3    2   69]\n",
      " [   1    0    0   14    0  862    2    1    4    8]\n",
      " [   6    2    3    0    6    3  936    0    2    0]\n",
      " [   0    0    6   17    0    0    0  821    0  184]\n",
      " [   1    0    3   13    0    3    2    0  933   19]\n",
      " [   2    0    0    1    2    1    0    0    2 1001]]\n"
     ]
    }
   ],
   "source": [
    "import seaborn as sns\n",
    "import matplotlib.pyplot as plt\n",
    "\n",
    "### Confusion Matrix\n",
    "from sklearn.metrics import confusion_matrix\n",
    "predictions = model.predict(x_test, steps=len(x_test), verbose=0)\n",
    "#y_pred=model.predict(x_test)\n",
    "#y_pred = np.round(y_pred)\n",
    "y_pred = np.argmax(predictions, axis=-1)\n",
    "\n",
    "y_true=np.argmax(y_test, axis=-1)\n",
    "\n",
    "cm = confusion_matrix(y_true, y_pred)\n",
    "print(cm)"
   ]
  },
  {
   "cell_type": "code",
   "execution_count": 16,
   "id": "60935027",
   "metadata": {},
   "outputs": [
    {
     "data": {
      "image/png": "[encoded data removed]",
      "text/plain": [
       "<Figure size 1152x1008 with 2 Axes>"
      ]
     },
     "metadata": {
      "needs_background": "light"
     },
     "output_type": "display_data"
    }
   ],
   "source": [
    "# Plot confusion matrix in a beautiful manner\n",
    "fig = plt.figure(figsize=(16, 14))\n",
    "ax= plt.subplot()\n",
    "sns.heatmap(cm, annot=True, ax = ax, fmt = 'g'); #annot=True to annotate cells\n",
    "# labels, title and ticks\n",
    "ax.set_xlabel('Predicted', fontsize=20)\n",
    "ax.xaxis.set_label_position('bottom')\n",
    "plt.xticks(rotation=90)\n",
    "#ax.xaxis.set_ticklabels(num_labels,fontsize = 10)\n",
    "ax.xaxis.tick_bottom()\n",
    "\n",
    "ax.set_ylabel('True', fontsize=20)\n",
    "#ax.yaxis.set_ticklabels(num_labels, fontsize = 10)\n",
    "plt.yticks(rotation=0)\n",
    "\n",
    "plt.title('Refined Confusion Matrix', fontsize=20)\n",
    "\n",
    "plt.savefig('ConMat24.png')\n",
    "plt.show()"
   ]
  },
  {
   "cell_type": "code",
   "execution_count": null,
   "id": "c5696899",
   "metadata": {},
   "outputs": [],
   "source": []
  }
 ],
 "metadata": {
  "kernelspec": {
   "display_name": "Python 3",
   "language": "python",
   "name": "python3"
  },
  "language_info": {
   "codemirror_mode": {
    "name": "ipython",
    "version": 3
   },
   "file_extension": ".py",
   "mimetype": "text/x-python",
   "name": "python",
   "nbconvert_exporter": "python",
   "pygments_lexer": "ipython3",
   "version": "3.8.8"
  }
 },
 "nbformat": 4,
 "nbformat_minor": 5
}
